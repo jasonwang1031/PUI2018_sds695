{
 "cells": [
  {
   "cell_type": "code",
   "execution_count": 10,
   "metadata": {},
   "outputs": [],
   "source": [
    "from __future__ import print_function\n",
    "import pandas as pd\n",
    "import os"
   ]
  },
  {
   "cell_type": "code",
   "execution_count": 55,
   "metadata": {},
   "outputs": [
    {
     "name": "stdout",
     "output_type": "stream",
     "text": [
      "  % Total    % Received % Xferd  Average Speed   Time    Time     Time  Current\n",
      "                                 Dload  Upload   Total   Spent    Left  Speed\n",
      "100  386M    0  383M    0     0  3349k      0 --:--:--  0:01:57 --:--:-- 3560k  0 --:--:--  0:01:30 --:--:-- 2938k   0  386M    0     0  3352k      0 --:--:--  0:01:58 --:--:-- 3608k\n"
     ]
    }
   ],
   "source": [
    "!curl https://data.cityofnewyork.us/api/views/k397-673e/rows.csv?accessType=DOWNLOAD>citywide_payroll.csv"
   ]
  },
  {
   "cell_type": "code",
   "execution_count": 56,
   "metadata": {},
   "outputs": [
    {
     "name": "stdout",
     "output_type": "stream",
     "text": [
      "PUIdata /nfshome/sds695/PUIdata\n"
     ]
    }
   ],
   "source": [
    "print(\"PUIdata\", os.getenv(\"PUIDATA\"))"
   ]
  },
  {
   "cell_type": "code",
   "execution_count": 57,
   "metadata": {},
   "outputs": [],
   "source": [
    "!mv citywide_payroll.csv $PUIDATA"
   ]
  },
  {
   "cell_type": "code",
   "execution_count": 58,
   "metadata": {},
   "outputs": [
    {
     "name": "stdout",
     "output_type": "stream",
     "text": [
      "citywide_payroll.csv  NYC_Jobs.csv\r\n"
     ]
    }
   ],
   "source": [
    "!ls $PUIDATA"
   ]
  },
  {
   "cell_type": "code",
   "execution_count": 62,
   "metadata": {},
   "outputs": [
    {
     "name": "stderr",
     "output_type": "stream",
     "text": [
      "/usr/local/Anaconda3-5.0.0-Linux-x86_64/envs/PUI2016_Python3/lib/python3.5/site-packages/IPython/core/interactiveshell.py:2717: DtypeWarning: Columns (6) have mixed types. Specify dtype option on import or set low_memory=False.\n",
      "  interactivity=interactivity, compiler=compiler, result=result)\n"
     ]
    }
   ],
   "source": [
    "city_pay = pd.read_csv(\"%s/citywide_payroll.csv\"%os.getenv(\"PUIDATA\"))"
   ]
  },
  {
   "cell_type": "code",
   "execution_count": 96,
   "metadata": {},
   "outputs": [
    {
     "data": {
      "text/html": [
       "<div>\n",
       "<table border=\"1\" class=\"dataframe\">\n",
       "  <thead>\n",
       "    <tr style=\"text-align: right;\">\n",
       "      <th></th>\n",
       "      <th>Fiscal Year</th>\n",
       "      <th>Agency Name</th>\n",
       "      <th>Last Name</th>\n",
       "      <th>First Name</th>\n",
       "      <th>Mid Init</th>\n",
       "      <th>Agency Start Date</th>\n",
       "      <th>Work Location Borough</th>\n",
       "      <th>Title Description</th>\n",
       "      <th>Leave Status as of June 30</th>\n",
       "      <th>Base Salary</th>\n",
       "      <th>Pay Basis</th>\n",
       "      <th>Regular Hours</th>\n",
       "      <th>Regular Gross Paid</th>\n",
       "      <th>OT Hours</th>\n",
       "      <th>Total OT Paid</th>\n",
       "      <th>Total Other Pay</th>\n",
       "    </tr>\n",
       "  </thead>\n",
       "  <tbody>\n",
       "    <tr>\n",
       "      <th>0</th>\n",
       "      <td>2016</td>\n",
       "      <td>DISTRICT ATTORNEY-MANHATTAN</td>\n",
       "      <td>ABA'AHMID</td>\n",
       "      <td>RAHASHEEM</td>\n",
       "      <td>E</td>\n",
       "      <td>07/14/2003</td>\n",
       "      <td>MANHATTAN</td>\n",
       "      <td>COMMUNITY ASSOCIATE                           ...</td>\n",
       "      <td>ACTIVE</td>\n",
       "      <td>47678.0</td>\n",
       "      <td>per Annum</td>\n",
       "      <td>1830.00</td>\n",
       "      <td>47166.03</td>\n",
       "      <td>2.25</td>\n",
       "      <td>57.28</td>\n",
       "      <td>0.0</td>\n",
       "    </tr>\n",
       "    <tr>\n",
       "      <th>1</th>\n",
       "      <td>2016</td>\n",
       "      <td>DISTRICT ATTORNEY-MANHATTAN</td>\n",
       "      <td>ABENSUR</td>\n",
       "      <td>MARGARET</td>\n",
       "      <td>NaN</td>\n",
       "      <td>06/12/1995</td>\n",
       "      <td>MANHATTAN</td>\n",
       "      <td>ADMINISTRATIVE ACCOUNTANT                     ...</td>\n",
       "      <td>ACTIVE</td>\n",
       "      <td>119959.0</td>\n",
       "      <td>per Annum</td>\n",
       "      <td>1831.00</td>\n",
       "      <td>119042.50</td>\n",
       "      <td>0.00</td>\n",
       "      <td>0.00</td>\n",
       "      <td>0.0</td>\n",
       "    </tr>\n",
       "    <tr>\n",
       "      <th>2</th>\n",
       "      <td>2016</td>\n",
       "      <td>DISTRICT ATTORNEY-MANHATTAN</td>\n",
       "      <td>ABOUNAOUM</td>\n",
       "      <td>ANDREA</td>\n",
       "      <td>L</td>\n",
       "      <td>10/11/2011</td>\n",
       "      <td>MANHATTAN</td>\n",
       "      <td>COMMUNITY ASSOCIATE                           ...</td>\n",
       "      <td>ON LEAVE</td>\n",
       "      <td>39966.0</td>\n",
       "      <td>per Annum</td>\n",
       "      <td>1181.68</td>\n",
       "      <td>27452.62</td>\n",
       "      <td>1.00</td>\n",
       "      <td>21.34</td>\n",
       "      <td>33.0</td>\n",
       "    </tr>\n",
       "    <tr>\n",
       "      <th>3</th>\n",
       "      <td>2016</td>\n",
       "      <td>DISTRICT ATTORNEY-MANHATTAN</td>\n",
       "      <td>ABRAHAM</td>\n",
       "      <td>JONATHAN</td>\n",
       "      <td>J</td>\n",
       "      <td>12/01/2014</td>\n",
       "      <td>MANHATTAN</td>\n",
       "      <td>COMPUTER SYSTEMS MANAGER                      ...</td>\n",
       "      <td>ACTIVE</td>\n",
       "      <td>116000.0</td>\n",
       "      <td>per Annum</td>\n",
       "      <td>1831.00</td>\n",
       "      <td>115104.57</td>\n",
       "      <td>0.00</td>\n",
       "      <td>0.00</td>\n",
       "      <td>0.0</td>\n",
       "    </tr>\n",
       "    <tr>\n",
       "      <th>4</th>\n",
       "      <td>2016</td>\n",
       "      <td>DISTRICT ATTORNEY-MANHATTAN</td>\n",
       "      <td>ABRAMS</td>\n",
       "      <td>JOSEPH</td>\n",
       "      <td>NaN</td>\n",
       "      <td>05/21/2015</td>\n",
       "      <td>MANHATTAN</td>\n",
       "      <td>COLLEGE AIDE                                  ...</td>\n",
       "      <td>CEASED</td>\n",
       "      <td>1.0</td>\n",
       "      <td>per Hour</td>\n",
       "      <td>0.00</td>\n",
       "      <td>3500.00</td>\n",
       "      <td>0.00</td>\n",
       "      <td>0.00</td>\n",
       "      <td>0.0</td>\n",
       "    </tr>\n",
       "    <tr>\n",
       "      <th>5</th>\n",
       "      <td>2016</td>\n",
       "      <td>DISTRICT ATTORNEY-MANHATTAN</td>\n",
       "      <td>ABREU</td>\n",
       "      <td>JENNIFER</td>\n",
       "      <td>NaN</td>\n",
       "      <td>09/04/2012</td>\n",
       "      <td>MANHATTAN</td>\n",
       "      <td>ASSISTANT DISTRICT ATTORNEY                   ...</td>\n",
       "      <td>ACTIVE</td>\n",
       "      <td>71500.0</td>\n",
       "      <td>per Annum</td>\n",
       "      <td>1831.00</td>\n",
       "      <td>71967.34</td>\n",
       "      <td>0.00</td>\n",
       "      <td>0.00</td>\n",
       "      <td>0.0</td>\n",
       "    </tr>\n",
       "    <tr>\n",
       "      <th>6</th>\n",
       "      <td>2016</td>\n",
       "      <td>DISTRICT ATTORNEY-MANHATTAN</td>\n",
       "      <td>ABREU</td>\n",
       "      <td>JUAN</td>\n",
       "      <td>D</td>\n",
       "      <td>09/04/2007</td>\n",
       "      <td>MANHATTAN</td>\n",
       "      <td>ASSISTANT DISTRICT ATTORNEY                   ...</td>\n",
       "      <td>ACTIVE</td>\n",
       "      <td>88000.0</td>\n",
       "      <td>per Annum</td>\n",
       "      <td>1831.00</td>\n",
       "      <td>87614.01</td>\n",
       "      <td>0.00</td>\n",
       "      <td>0.00</td>\n",
       "      <td>750.0</td>\n",
       "    </tr>\n",
       "  </tbody>\n",
       "</table>\n",
       "</div>"
      ],
      "text/plain": [
       "   Fiscal Year                     Agency Name  Last Name First Name Mid Init  \\\n",
       "0         2016  DISTRICT ATTORNEY-MANHATTAN     ABA'AHMID  RAHASHEEM        E   \n",
       "1         2016  DISTRICT ATTORNEY-MANHATTAN       ABENSUR   MARGARET      NaN   \n",
       "2         2016  DISTRICT ATTORNEY-MANHATTAN     ABOUNAOUM     ANDREA        L   \n",
       "3         2016  DISTRICT ATTORNEY-MANHATTAN       ABRAHAM   JONATHAN        J   \n",
       "4         2016  DISTRICT ATTORNEY-MANHATTAN        ABRAMS     JOSEPH      NaN   \n",
       "5         2016  DISTRICT ATTORNEY-MANHATTAN         ABREU   JENNIFER      NaN   \n",
       "6         2016  DISTRICT ATTORNEY-MANHATTAN         ABREU       JUAN        D   \n",
       "\n",
       "  Agency Start Date Work Location Borough  \\\n",
       "0        07/14/2003         MANHATTAN       \n",
       "1        06/12/1995         MANHATTAN       \n",
       "2        10/11/2011         MANHATTAN       \n",
       "3        12/01/2014         MANHATTAN       \n",
       "4        05/21/2015         MANHATTAN       \n",
       "5        09/04/2012         MANHATTAN       \n",
       "6        09/04/2007         MANHATTAN       \n",
       "\n",
       "                                   Title Description  \\\n",
       "0  COMMUNITY ASSOCIATE                           ...   \n",
       "1  ADMINISTRATIVE ACCOUNTANT                     ...   \n",
       "2  COMMUNITY ASSOCIATE                           ...   \n",
       "3  COMPUTER SYSTEMS MANAGER                      ...   \n",
       "4  COLLEGE AIDE                                  ...   \n",
       "5  ASSISTANT DISTRICT ATTORNEY                   ...   \n",
       "6  ASSISTANT DISTRICT ATTORNEY                   ...   \n",
       "\n",
       "  Leave Status as of June 30  Base Salary   Pay Basis  Regular Hours  \\\n",
       "0                     ACTIVE      47678.0   per Annum        1830.00   \n",
       "1                     ACTIVE     119959.0   per Annum        1831.00   \n",
       "2                   ON LEAVE      39966.0   per Annum        1181.68   \n",
       "3                     ACTIVE     116000.0   per Annum        1831.00   \n",
       "4                     CEASED          1.0    per Hour           0.00   \n",
       "5                     ACTIVE      71500.0   per Annum        1831.00   \n",
       "6                     ACTIVE      88000.0   per Annum        1831.00   \n",
       "\n",
       "   Regular Gross Paid  OT Hours  Total OT Paid  Total Other Pay  \n",
       "0            47166.03      2.25          57.28              0.0  \n",
       "1           119042.50      0.00           0.00              0.0  \n",
       "2            27452.62      1.00          21.34             33.0  \n",
       "3           115104.57      0.00           0.00              0.0  \n",
       "4             3500.00      0.00           0.00              0.0  \n",
       "5            71967.34      0.00           0.00              0.0  \n",
       "6            87614.01      0.00           0.00            750.0  "
      ]
     },
     "execution_count": 96,
     "metadata": {},
     "output_type": "execute_result"
    }
   ],
   "source": [
    "city_pay.head(7)"
   ]
  },
  {
   "cell_type": "code",
   "execution_count": 64,
   "metadata": {},
   "outputs": [
    {
     "data": {
      "text/html": [
       "<div>\n",
       "<table border=\"1\" class=\"dataframe\">\n",
       "  <thead>\n",
       "    <tr style=\"text-align: right;\">\n",
       "      <th></th>\n",
       "      <th>Fiscal Year</th>\n",
       "      <th>Agency Name</th>\n",
       "      <th>Last Name</th>\n",
       "      <th>First Name</th>\n",
       "      <th>Mid Init</th>\n",
       "      <th>Agency Start Date</th>\n",
       "      <th>Work Location Borough</th>\n",
       "      <th>Title Description</th>\n",
       "      <th>Leave Status as of June 30</th>\n",
       "      <th>Base Salary</th>\n",
       "      <th>Pay Basis</th>\n",
       "      <th>Regular Hours</th>\n",
       "      <th>Regular Gross Paid</th>\n",
       "      <th>OT Hours</th>\n",
       "      <th>Total OT Paid</th>\n",
       "      <th>Total Other Pay</th>\n",
       "    </tr>\n",
       "  </thead>\n",
       "  <tbody>\n",
       "    <tr>\n",
       "      <th>2194485</th>\n",
       "      <td>2017</td>\n",
       "      <td>DISTRICT ATTORNEY-SPECIAL NARC</td>\n",
       "      <td>XXX</td>\n",
       "      <td>XXX</td>\n",
       "      <td>NaN</td>\n",
       "      <td>03/17/1997</td>\n",
       "      <td>MANHATTAN</td>\n",
       "      <td>SUPERVISING RACKETS INVESTIGATOR</td>\n",
       "      <td>ACTIVE</td>\n",
       "      <td>89686.0</td>\n",
       "      <td>per Annum</td>\n",
       "      <td>2051.43</td>\n",
       "      <td>96646.24</td>\n",
       "      <td>63.0</td>\n",
       "      <td>4937.42</td>\n",
       "      <td>3624.24</td>\n",
       "    </tr>\n",
       "    <tr>\n",
       "      <th>2194486</th>\n",
       "      <td>2017</td>\n",
       "      <td>DISTRICT ATTORNEY-SPECIAL NARC</td>\n",
       "      <td>XXX</td>\n",
       "      <td>XXX</td>\n",
       "      <td>J</td>\n",
       "      <td>04/19/1993</td>\n",
       "      <td>MANHATTAN</td>\n",
       "      <td>SUPERVISING RACKETS INVESTIGATOR</td>\n",
       "      <td>ACTIVE</td>\n",
       "      <td>94245.0</td>\n",
       "      <td>per Annum</td>\n",
       "      <td>2051.43</td>\n",
       "      <td>105281.70</td>\n",
       "      <td>22.0</td>\n",
       "      <td>1544.83</td>\n",
       "      <td>3624.24</td>\n",
       "    </tr>\n",
       "    <tr>\n",
       "      <th>2194487</th>\n",
       "      <td>2017</td>\n",
       "      <td>DISTRICT ATTORNEY-SPECIAL NARC</td>\n",
       "      <td>XXX</td>\n",
       "      <td>XXX</td>\n",
       "      <td>L</td>\n",
       "      <td>02/10/1992</td>\n",
       "      <td>MANHATTAN</td>\n",
       "      <td>SUPERVISING RACKETS INVESTIGATOR</td>\n",
       "      <td>CEASED</td>\n",
       "      <td>89780.0</td>\n",
       "      <td>per Annum</td>\n",
       "      <td>1235.43</td>\n",
       "      <td>78923.55</td>\n",
       "      <td>160.0</td>\n",
       "      <td>12509.95</td>\n",
       "      <td>2388.87</td>\n",
       "    </tr>\n",
       "  </tbody>\n",
       "</table>\n",
       "</div>"
      ],
      "text/plain": [
       "         Fiscal Year                     Agency Name Last Name First Name  \\\n",
       "2194485         2017  DISTRICT ATTORNEY-SPECIAL NARC       XXX        XXX   \n",
       "2194486         2017  DISTRICT ATTORNEY-SPECIAL NARC       XXX        XXX   \n",
       "2194487         2017  DISTRICT ATTORNEY-SPECIAL NARC       XXX        XXX   \n",
       "\n",
       "        Mid Init Agency Start Date Work Location Borough  \\\n",
       "2194485      NaN        03/17/1997         MANHATTAN       \n",
       "2194486        J        04/19/1993         MANHATTAN       \n",
       "2194487        L        02/10/1992         MANHATTAN       \n",
       "\n",
       "                             Title Description Leave Status as of June 30  \\\n",
       "2194485  SUPERVISING RACKETS INVESTIGATOR                          ACTIVE   \n",
       "2194486  SUPERVISING RACKETS INVESTIGATOR                          ACTIVE   \n",
       "2194487  SUPERVISING RACKETS INVESTIGATOR                          CEASED   \n",
       "\n",
       "         Base Salary   Pay Basis  Regular Hours  Regular Gross Paid  OT Hours  \\\n",
       "2194485      89686.0   per Annum        2051.43            96646.24      63.0   \n",
       "2194486      94245.0   per Annum        2051.43           105281.70      22.0   \n",
       "2194487      89780.0   per Annum        1235.43            78923.55     160.0   \n",
       "\n",
       "         Total OT Paid  Total Other Pay  \n",
       "2194485        4937.42          3624.24  \n",
       "2194486        1544.83          3624.24  \n",
       "2194487       12509.95          2388.87  "
      ]
     },
     "execution_count": 64,
     "metadata": {},
     "output_type": "execute_result"
    }
   ],
   "source": [
    "city_pay.tail(3)"
   ]
  },
  {
   "cell_type": "code",
   "execution_count": 65,
   "metadata": {},
   "outputs": [
    {
     "data": {
      "text/plain": [
       "Index(['Fiscal Year', 'Agency Name', 'Last Name', 'First Name', 'Mid Init',\n",
       "       'Agency Start Date', 'Work Location Borough', 'Title Description',\n",
       "       'Leave Status as of June 30', 'Base Salary', 'Pay Basis',\n",
       "       'Regular Hours', 'Regular Gross Paid', 'OT Hours', 'Total OT Paid',\n",
       "       'Total Other Pay'],\n",
       "      dtype='object')"
      ]
     },
     "execution_count": 65,
     "metadata": {},
     "output_type": "execute_result"
    }
   ],
   "source": [
    "city_pay.columns"
   ]
  },
  {
   "cell_type": "code",
   "execution_count": 66,
   "metadata": {},
   "outputs": [
    {
     "data": {
      "text/plain": [
       "35111808"
      ]
     },
     "execution_count": 66,
     "metadata": {},
     "output_type": "execute_result"
    }
   ],
   "source": [
    "city_pay.size"
   ]
  },
  {
   "cell_type": "code",
   "execution_count": 68,
   "metadata": {},
   "outputs": [],
   "source": [
    "city_pay2c=city_pay[[\"Regular Hours\",\"Regular Gross Paid\"]]"
   ]
  },
  {
   "cell_type": "code",
   "execution_count": 70,
   "metadata": {},
   "outputs": [
    {
     "data": {
      "text/html": [
       "<div>\n",
       "<table border=\"1\" class=\"dataframe\">\n",
       "  <thead>\n",
       "    <tr style=\"text-align: right;\">\n",
       "      <th></th>\n",
       "      <th>Regular Hours</th>\n",
       "      <th>Regular Gross Paid</th>\n",
       "    </tr>\n",
       "  </thead>\n",
       "  <tbody>\n",
       "    <tr>\n",
       "      <th>0</th>\n",
       "      <td>1830.00</td>\n",
       "      <td>47166.03</td>\n",
       "    </tr>\n",
       "    <tr>\n",
       "      <th>1</th>\n",
       "      <td>1831.00</td>\n",
       "      <td>119042.50</td>\n",
       "    </tr>\n",
       "    <tr>\n",
       "      <th>2</th>\n",
       "      <td>1181.68</td>\n",
       "      <td>27452.62</td>\n",
       "    </tr>\n",
       "    <tr>\n",
       "      <th>3</th>\n",
       "      <td>1831.00</td>\n",
       "      <td>115104.57</td>\n",
       "    </tr>\n",
       "    <tr>\n",
       "      <th>4</th>\n",
       "      <td>0.00</td>\n",
       "      <td>3500.00</td>\n",
       "    </tr>\n",
       "  </tbody>\n",
       "</table>\n",
       "</div>"
      ],
      "text/plain": [
       "   Regular Hours  Regular Gross Paid\n",
       "0        1830.00            47166.03\n",
       "1        1831.00           119042.50\n",
       "2        1181.68            27452.62\n",
       "3        1831.00           115104.57\n",
       "4           0.00             3500.00"
      ]
     },
     "execution_count": 70,
     "metadata": {},
     "output_type": "execute_result"
    }
   ],
   "source": [
    "city_pay2c.head()"
   ]
  },
  {
   "cell_type": "code",
   "execution_count": 71,
   "metadata": {},
   "outputs": [
    {
     "name": "stdout",
     "output_type": "stream",
     "text": [
      "Populating the interactive namespace from numpy and matplotlib\n"
     ]
    }
   ],
   "source": [
    "%pylab inline"
   ]
  },
  {
   "cell_type": "code",
   "execution_count": 73,
   "metadata": {},
   "outputs": [
    {
     "data": {
      "text/plain": [
       "<matplotlib.axes._subplots.AxesSubplot at 0x7f2e8aef5780>"
      ]
     },
     "execution_count": 73,
     "metadata": {},
     "output_type": "execute_result"
    },
    {
     "data": {
      "image/png": "[encoded data removed]",
      "text/plain": [
       "<matplotlib.figure.Figure at 0x7f2e8aefb940>"
      ]
     },
     "metadata": {},
     "output_type": "display_data"
    }
   ],
   "source": [
    "city_pay2c.plot(x=\"Regular Hours\", y=\"Regular Gross Paid\",kind='scatter')"
   ]
  },
  {
   "cell_type": "markdown",
   "metadata": {},
   "source": [
    "Figure 1: This figure shows the Gross Pay vs Regular Hours. The plot shows a relation between the two fields which seems to be directly propotional in nature."
   ]
  },
  {
   "cell_type": "code",
   "execution_count": 78,
   "metadata": {},
   "outputs": [],
   "source": [
    "url=\"https://data.cityofnewyork.us/resource/4qxi-jgbe.json\""
   ]
  },
  {
   "cell_type": "code",
   "execution_count": 79,
   "metadata": {},
   "outputs": [],
   "source": [
    "df = pd.read_json(url)"
   ]
  },
  {
   "cell_type": "code",
   "execution_count": 97,
   "metadata": {},
   "outputs": [
    {
     "data": {
      "text/html": [
       "<div>\n",
       "<table border=\"1\" class=\"dataframe\">\n",
       "  <thead>\n",
       "    <tr style=\"text-align: right;\">\n",
       "      <th></th>\n",
       "      <th>agency_name</th>\n",
       "      <th>agency_start_date</th>\n",
       "      <th>base_salary</th>\n",
       "      <th>first_name</th>\n",
       "      <th>fiscal_year</th>\n",
       "      <th>last_name</th>\n",
       "      <th>leave_status_as_of_july_31</th>\n",
       "      <th>mid_init</th>\n",
       "      <th>ot_hours</th>\n",
       "      <th>pay_basis</th>\n",
       "      <th>regular_gross_paid</th>\n",
       "      <th>regular_hours</th>\n",
       "      <th>title_description</th>\n",
       "      <th>total_ot_paid</th>\n",
       "      <th>total_other_pay</th>\n",
       "      <th>work_location_borough</th>\n",
       "    </tr>\n",
       "  </thead>\n",
       "  <tbody>\n",
       "    <tr>\n",
       "      <th>0</th>\n",
       "      <td>DISTRICT ATTORNEY-MANHATTAN</td>\n",
       "      <td>2003-07-14T00:00:00.000</td>\n",
       "      <td>47678.0</td>\n",
       "      <td>RAHASHEEM</td>\n",
       "      <td>2016</td>\n",
       "      <td>ABA'AHMID</td>\n",
       "      <td>ACTIVE</td>\n",
       "      <td>E</td>\n",
       "      <td>2.25</td>\n",
       "      <td>per Annum</td>\n",
       "      <td>47166.03</td>\n",
       "      <td>1830.00</td>\n",
       "      <td>COMMUNITY ASSOCIATE                           ...</td>\n",
       "      <td>57.28</td>\n",
       "      <td>0.0</td>\n",
       "      <td>MANHATTAN</td>\n",
       "    </tr>\n",
       "    <tr>\n",
       "      <th>1</th>\n",
       "      <td>DISTRICT ATTORNEY-MANHATTAN</td>\n",
       "      <td>1995-06-12T00:00:00.000</td>\n",
       "      <td>119959.0</td>\n",
       "      <td>MARGARET</td>\n",
       "      <td>2016</td>\n",
       "      <td>ABENSUR</td>\n",
       "      <td>ACTIVE</td>\n",
       "      <td>NaN</td>\n",
       "      <td>0.00</td>\n",
       "      <td>per Annum</td>\n",
       "      <td>119042.50</td>\n",
       "      <td>1831.00</td>\n",
       "      <td>ADMINISTRATIVE ACCOUNTANT                     ...</td>\n",
       "      <td>0.00</td>\n",
       "      <td>0.0</td>\n",
       "      <td>MANHATTAN</td>\n",
       "    </tr>\n",
       "    <tr>\n",
       "      <th>2</th>\n",
       "      <td>DISTRICT ATTORNEY-MANHATTAN</td>\n",
       "      <td>2011-10-11T00:00:00.000</td>\n",
       "      <td>39966.0</td>\n",
       "      <td>ANDREA</td>\n",
       "      <td>2016</td>\n",
       "      <td>ABOUNAOUM</td>\n",
       "      <td>ON LEAVE</td>\n",
       "      <td>L</td>\n",
       "      <td>1.00</td>\n",
       "      <td>per Annum</td>\n",
       "      <td>27452.62</td>\n",
       "      <td>1181.68</td>\n",
       "      <td>COMMUNITY ASSOCIATE                           ...</td>\n",
       "      <td>21.34</td>\n",
       "      <td>33.0</td>\n",
       "      <td>MANHATTAN</td>\n",
       "    </tr>\n",
       "    <tr>\n",
       "      <th>3</th>\n",
       "      <td>DISTRICT ATTORNEY-MANHATTAN</td>\n",
       "      <td>2014-12-01T00:00:00.000</td>\n",
       "      <td>116000.0</td>\n",
       "      <td>JONATHAN</td>\n",
       "      <td>2016</td>\n",
       "      <td>ABRAHAM</td>\n",
       "      <td>ACTIVE</td>\n",
       "      <td>J</td>\n",
       "      <td>0.00</td>\n",
       "      <td>per Annum</td>\n",
       "      <td>115104.57</td>\n",
       "      <td>1831.00</td>\n",
       "      <td>COMPUTER SYSTEMS MANAGER                      ...</td>\n",
       "      <td>0.00</td>\n",
       "      <td>0.0</td>\n",
       "      <td>MANHATTAN</td>\n",
       "    </tr>\n",
       "    <tr>\n",
       "      <th>4</th>\n",
       "      <td>DISTRICT ATTORNEY-MANHATTAN</td>\n",
       "      <td>2015-05-21T00:00:00.000</td>\n",
       "      <td>1.0</td>\n",
       "      <td>JOSEPH</td>\n",
       "      <td>2016</td>\n",
       "      <td>ABRAMS</td>\n",
       "      <td>CEASED</td>\n",
       "      <td>NaN</td>\n",
       "      <td>0.00</td>\n",
       "      <td>per Hour</td>\n",
       "      <td>3500.00</td>\n",
       "      <td>0.00</td>\n",
       "      <td>COLLEGE AIDE                                  ...</td>\n",
       "      <td>0.00</td>\n",
       "      <td>0.0</td>\n",
       "      <td>MANHATTAN</td>\n",
       "    </tr>\n",
       "    <tr>\n",
       "      <th>5</th>\n",
       "      <td>DISTRICT ATTORNEY-MANHATTAN</td>\n",
       "      <td>2012-09-04T00:00:00.000</td>\n",
       "      <td>71500.0</td>\n",
       "      <td>JENNIFER</td>\n",
       "      <td>2016</td>\n",
       "      <td>ABREU</td>\n",
       "      <td>ACTIVE</td>\n",
       "      <td>NaN</td>\n",
       "      <td>0.00</td>\n",
       "      <td>per Annum</td>\n",
       "      <td>71967.34</td>\n",
       "      <td>1831.00</td>\n",
       "      <td>ASSISTANT DISTRICT ATTORNEY                   ...</td>\n",
       "      <td>0.00</td>\n",
       "      <td>0.0</td>\n",
       "      <td>MANHATTAN</td>\n",
       "    </tr>\n",
       "    <tr>\n",
       "      <th>6</th>\n",
       "      <td>DISTRICT ATTORNEY-MANHATTAN</td>\n",
       "      <td>2007-09-04T00:00:00.000</td>\n",
       "      <td>88000.0</td>\n",
       "      <td>JUAN</td>\n",
       "      <td>2016</td>\n",
       "      <td>ABREU</td>\n",
       "      <td>ACTIVE</td>\n",
       "      <td>D</td>\n",
       "      <td>0.00</td>\n",
       "      <td>per Annum</td>\n",
       "      <td>87614.01</td>\n",
       "      <td>1831.00</td>\n",
       "      <td>ASSISTANT DISTRICT ATTORNEY                   ...</td>\n",
       "      <td>0.00</td>\n",
       "      <td>750.0</td>\n",
       "      <td>MANHATTAN</td>\n",
       "    </tr>\n",
       "    <tr>\n",
       "      <th>7</th>\n",
       "      <td>DISTRICT ATTORNEY-MANHATTAN</td>\n",
       "      <td>2016-06-06T00:00:00.000</td>\n",
       "      <td>1.0</td>\n",
       "      <td>JENNIFER</td>\n",
       "      <td>2016</td>\n",
       "      <td>ACEVEDO</td>\n",
       "      <td>ACTIVE</td>\n",
       "      <td>NaN</td>\n",
       "      <td>0.00</td>\n",
       "      <td>per Hour</td>\n",
       "      <td>500.00</td>\n",
       "      <td>0.00</td>\n",
       "      <td>COLLEGE AIDE                                  ...</td>\n",
       "      <td>0.00</td>\n",
       "      <td>0.0</td>\n",
       "      <td>MANHATTAN</td>\n",
       "    </tr>\n",
       "  </tbody>\n",
       "</table>\n",
       "</div>"
      ],
      "text/plain": [
       "                      agency_name        agency_start_date  base_salary  \\\n",
       "0  DISTRICT ATTORNEY-MANHATTAN     2003-07-14T00:00:00.000      47678.0   \n",
       "1  DISTRICT ATTORNEY-MANHATTAN     1995-06-12T00:00:00.000     119959.0   \n",
       "2  DISTRICT ATTORNEY-MANHATTAN     2011-10-11T00:00:00.000      39966.0   \n",
       "3  DISTRICT ATTORNEY-MANHATTAN     2014-12-01T00:00:00.000     116000.0   \n",
       "4  DISTRICT ATTORNEY-MANHATTAN     2015-05-21T00:00:00.000          1.0   \n",
       "5  DISTRICT ATTORNEY-MANHATTAN     2012-09-04T00:00:00.000      71500.0   \n",
       "6  DISTRICT ATTORNEY-MANHATTAN     2007-09-04T00:00:00.000      88000.0   \n",
       "7  DISTRICT ATTORNEY-MANHATTAN     2016-06-06T00:00:00.000          1.0   \n",
       "\n",
       "  first_name  fiscal_year  last_name leave_status_as_of_july_31 mid_init  \\\n",
       "0  RAHASHEEM         2016  ABA'AHMID                     ACTIVE        E   \n",
       "1   MARGARET         2016    ABENSUR                     ACTIVE      NaN   \n",
       "2     ANDREA         2016  ABOUNAOUM                   ON LEAVE        L   \n",
       "3   JONATHAN         2016    ABRAHAM                     ACTIVE        J   \n",
       "4     JOSEPH         2016     ABRAMS                     CEASED      NaN   \n",
       "5   JENNIFER         2016      ABREU                     ACTIVE      NaN   \n",
       "6       JUAN         2016      ABREU                     ACTIVE        D   \n",
       "7   JENNIFER         2016    ACEVEDO                     ACTIVE      NaN   \n",
       "\n",
       "   ot_hours   pay_basis  regular_gross_paid  regular_hours  \\\n",
       "0      2.25   per Annum            47166.03        1830.00   \n",
       "1      0.00   per Annum           119042.50        1831.00   \n",
       "2      1.00   per Annum            27452.62        1181.68   \n",
       "3      0.00   per Annum           115104.57        1831.00   \n",
       "4      0.00    per Hour             3500.00           0.00   \n",
       "5      0.00   per Annum            71967.34        1831.00   \n",
       "6      0.00   per Annum            87614.01        1831.00   \n",
       "7      0.00    per Hour              500.00           0.00   \n",
       "\n",
       "                                   title_description  total_ot_paid  \\\n",
       "0  COMMUNITY ASSOCIATE                           ...          57.28   \n",
       "1  ADMINISTRATIVE ACCOUNTANT                     ...           0.00   \n",
       "2  COMMUNITY ASSOCIATE                           ...          21.34   \n",
       "3  COMPUTER SYSTEMS MANAGER                      ...           0.00   \n",
       "4  COLLEGE AIDE                                  ...           0.00   \n",
       "5  ASSISTANT DISTRICT ATTORNEY                   ...           0.00   \n",
       "6  ASSISTANT DISTRICT ATTORNEY                   ...           0.00   \n",
       "7  COLLEGE AIDE                                  ...           0.00   \n",
       "\n",
       "   total_other_pay work_location_borough  \n",
       "0              0.0         MANHATTAN      \n",
       "1              0.0         MANHATTAN      \n",
       "2             33.0         MANHATTAN      \n",
       "3              0.0         MANHATTAN      \n",
       "4              0.0         MANHATTAN      \n",
       "5              0.0         MANHATTAN      \n",
       "6            750.0         MANHATTAN      \n",
       "7              0.0         MANHATTAN      "
      ]
     },
     "execution_count": 97,
     "metadata": {},
     "output_type": "execute_result"
    }
   ],
   "source": [
    "df.head(8)"
   ]
  },
  {
   "cell_type": "code",
   "execution_count": 81,
   "metadata": {},
   "outputs": [
    {
     "data": {
      "text/plain": [
       "Index(['agency_name', 'agency_start_date', 'base_salary', 'first_name',\n",
       "       'fiscal_year', 'last_name', 'leave_status_as_of_july_31', 'mid_init',\n",
       "       'ot_hours', 'pay_basis', 'regular_gross_paid', 'regular_hours',\n",
       "       'title_description', 'total_ot_paid', 'total_other_pay',\n",
       "       'work_location_borough'],\n",
       "      dtype='object')"
      ]
     },
     "execution_count": 81,
     "metadata": {},
     "output_type": "execute_result"
    }
   ],
   "source": [
    "df.columns"
   ]
  },
  {
   "cell_type": "code",
   "execution_count": 87,
   "metadata": {},
   "outputs": [],
   "source": [
    "cpr_3c = df[['agency_start_date', 'base_salary', 'total_ot_paid']]"
   ]
  },
  {
   "cell_type": "code",
   "execution_count": 88,
   "metadata": {},
   "outputs": [
    {
     "name": "stderr",
     "output_type": "stream",
     "text": [
      "/usr/local/Anaconda3-5.0.0-Linux-x86_64/envs/PUI2016_Python3/lib/python3.5/site-packages/pandas/core/frame.py:2754: SettingWithCopyWarning: \n",
      "A value is trying to be set on a copy of a slice from a DataFrame\n",
      "\n",
      "See the caveats in the documentation: http://pandas.pydata.org/pandas-docs/stable/indexing.html#indexing-view-versus-copy\n",
      "  **kwargs)\n"
     ]
    }
   ],
   "source": [
    "cpr_3c.rename(columns= {'agency_start_date':'Agency Start Date',\n",
    "                       'base_salary':'Base Salary',\n",
    "                       'total_ot_paid':'Total OT Paid'}, inplace=True)"
   ]
  },
  {
   "cell_type": "code",
   "execution_count": 93,
   "metadata": {},
   "outputs": [
    {
     "data": {
      "text/plain": [
       "Text(0,0.5,'Number')"
      ]
     },
     "execution_count": 93,
     "metadata": {},
     "output_type": "execute_result"
    },
    {
     "data": {
      "image/png": "[encoded data removed]",
      "text/plain": [
       "<matplotlib.figure.Figure at 0x7f2ea1d95ef0>"
      ]
     },
     "metadata": {},
     "output_type": "display_data"
    }
   ],
   "source": [
    "ax=cpr_3c.plot(x='Agency Start Date',y='Base Salary')\n",
    "ax.set_ylabel(\"Number\")"
   ]
  },
  {
   "cell_type": "markdown",
   "metadata": {},
   "source": [
    "Figure 2: This plot shows the base salary over the years. There seems to be a repeating pattern where the salary goes up to a local maximum and then drops."
   ]
  },
  {
   "cell_type": "code",
   "execution_count": 95,
   "metadata": {},
   "outputs": [
    {
     "data": {
      "text/plain": [
       "Text(0,0.5,'Number')"
      ]
     },
     "execution_count": 95,
     "metadata": {},
     "output_type": "execute_result"
    },
    {
     "data": {
      "image/png": "[encoded data removed]",
      "text/plain": [
       "<matplotlib.figure.Figure at 0x7f2e8ad915f8>"
      ]
     },
     "metadata": {},
     "output_type": "display_data"
    }
   ],
   "source": [
    "ax=cpr_3c.plot(x='Agency Start Date',y='Total OT Paid')\n",
    "ax.set_ylabel(\"Number\")"
   ]
  },
  {
   "cell_type": "markdown",
   "metadata": {},
   "source": [
    "Figure 3: This plot shows the Total OT Paid over the years. There are many parts where there is 0 total overtime paid which may be something we need to investigate further."
   ]
  }
 ],
 "metadata": {
  "kernelspec": {
   "display_name": "PUI2016_Python3",
   "language": "python",
   "name": "pui2016_python3"
  },
  "language_info": {
   "codemirror_mode": {
    "name": "ipython",
    "version": 3
   },
   "file_extension": ".py",
   "mimetype": "text/x-python",
   "name": "python",
   "nbconvert_exporter": "python",
   "pygments_lexer": "ipython3",
   "version": "3.5.4"
  }
 },
 "nbformat": 4,
 "nbformat_minor": 2
}
