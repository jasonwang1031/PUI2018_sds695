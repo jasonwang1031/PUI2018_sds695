{
 "cells": [
  {
   "cell_type": "markdown",
   "metadata": {},
   "source": [
    "## Idea: The new bus route is improving commute times.\n",
    "\n",
    "# NULL HYPOTHESIS:\n",
    "\n",
    "## The commute time on average is equal to or greater than what it was without the new route.\n",
    "\n",
    "# _$H_0$_ : $T_{new} >= T_{old}$\n",
    "# _$H_1$_ : $T_{new} < T_{old}$\n",
    "### Or identically:\n",
    "# _$H_0$_ : $T_{new} - T_{old}$ >= 0\n",
    "# _$H_1$_ : $T_{new} - T_{old}$ <0\n",
    "## Where\n",
    "   ### $T_{new}$ : Average commute time after the route was added \n",
    "   ### $T_{old}$:  Average commute time before the route was added \n",
    "   \n",
    "## We will use a significance level  $\\alpha=0.05$"
   ]
  },
  {
   "cell_type": "code",
   "execution_count": 13,
   "metadata": {},
   "outputs": [],
   "source": [
    "import pandas as pd\n",
    "import numpy as np"
   ]
  },
  {
   "cell_type": "code",
   "execution_count": 26,
   "metadata": {},
   "outputs": [],
   "source": [
    "commute_times = np.loadtxt(\"times.txt\").astype(float)"
   ]
  },
  {
   "cell_type": "code",
   "execution_count": 39,
   "metadata": {},
   "outputs": [],
   "source": [
    "mean_sample = commute_times.mean()\n",
    "std_sample = commute_times.std()\n",
    "mean_population = 36\n",
    "std_population = 6\n",
    "size = commute_times.size"
   ]
  },
  {
   "cell_type": "code",
   "execution_count": 44,
   "metadata": {},
   "outputs": [
    {
     "data": {
      "text/plain": [
       "2.5563971861666701"
      ]
     },
     "execution_count": 44,
     "metadata": {},
     "output_type": "execute_result"
    }
   ],
   "source": [
    "z_score = (mean_population - mean_sample)/(std_population/(size ** 0.5))\n",
    "z_score"
   ]
  },
  {
   "cell_type": "markdown",
   "metadata": {},
   "source": [
    "Since 2.5>2 this means that we are farther than 2 sigmas away from the mean. Since we have chose the significance level 0.05 which lies at 2 sigma away from the mean we can reject the null hypothesis."
   ]
  }
 ],
 "metadata": {
  "kernelspec": {
   "display_name": "PUI2016_Python3",
   "language": "python",
   "name": "pui2016_python3"
  },
  "language_info": {
   "codemirror_mode": {
    "name": "ipython",
    "version": 3
   },
   "file_extension": ".py",
   "mimetype": "text/x-python",
   "name": "python",
   "nbconvert_exporter": "python",
   "pygments_lexer": "ipython3",
   "version": "3.5.4"
  }
 },
 "nbformat": 4,
 "nbformat_minor": 2
}
